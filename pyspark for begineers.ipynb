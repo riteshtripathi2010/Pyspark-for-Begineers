{
 "cells": [
  {
   "cell_type": "code",
   "execution_count": 1,
   "id": "195b8cec",
   "metadata": {},
   "outputs": [],
   "source": [
    "#Machine Learning using Pyspark\n",
    "from pyspark.sql import SparkSession\n",
    "spark = SparkSession.builder.appName('Customers').getOrCreate()"
   ]
  },
  {
   "cell_type": "code",
   "execution_count": 2,
   "id": "ba35bb62",
   "metadata": {},
   "outputs": [],
   "source": [
    "from pyspark.ml.regression import LinearRegression\n"
   ]
  },
  {
   "cell_type": "code",
   "execution_count": 5,
   "id": "31556b3e",
   "metadata": {},
   "outputs": [],
   "source": [
    "data = spark.read.csv('/Users/riteshtripathi/Downloads/ecomm.csv', inferSchema = True, header = True)"
   ]
  },
  {
   "cell_type": "code",
   "execution_count": 7,
   "id": "21f12530",
   "metadata": {},
   "outputs": [
    {
     "data": {
      "text/plain": [
       "DataFrame[Email: string, Address: string, Avg Session Length: double, Time on App: double, Time on Website: double, Length of Membership: double, Yearly Amount Spent: double]"
      ]
     },
     "execution_count": 7,
     "metadata": {},
     "output_type": "execute_result"
    }
   ],
   "source": [
    "data"
   ]
  },
  {
   "cell_type": "code",
   "execution_count": 8,
   "id": "7d2917d5",
   "metadata": {},
   "outputs": [
    {
     "name": "stdout",
     "output_type": "stream",
     "text": [
      "+--------------------+--------------------+------------------+-----------+---------------+--------------------+-------------------+\n",
      "|               Email|             Address|Avg Session Length|Time on App|Time on Website|Length of Membership|Yearly Amount Spent|\n",
      "+--------------------+--------------------+------------------+-----------+---------------+--------------------+-------------------+\n",
      "|mstephenson@ferna...|835 Frank TunnelW...|       34.49726773|12.65565115|    39.57766802|         4.082620633|         587.951054|\n",
      "|   hduke@hotmail.com|4547 Archer Commo...|       31.92627203|11.10946073|    37.26895887|         2.664034182|        392.2049334|\n",
      "|    pallen@yahoo.com|24645 Valerie Uni...|       33.00091476|11.33027806|    37.11059744|         4.104543202|        487.5475049|\n",
      "|riverarebecca@gma...|1414 David Throug...|       34.30555663|13.71751367|    36.72128268|         3.120178783|         581.852344|\n",
      "|mstephens@davidso...|14023 Rodriguez P...|       33.33067252|12.79518855|     37.5366533|         4.446308318|         599.406092|\n",
      "|alvareznancy@luca...|645 Martha Park A...|       33.87103788|12.02692534|    34.47687763|         5.493507201|        637.1024479|\n",
      "|katherine20@yahoo...|68388 Reyes Light...|        32.0215955|11.36634831|    36.68377615|         4.685017247|        521.5721748|\n",
      "|  awatkins@yahoo.com|Unit 6538 Box 898...|       32.73914294|12.35195897|    37.37335886|         4.434273435|        549.9041461|\n",
      "|vchurch@walter-ma...|860 Lee KeyWest D...|        33.9877729|13.38623528|    37.53449734|         3.273433578|         570.200409|\n",
      "|    bonnie69@lin.biz|PSC 2734, Box 525...|       31.93654862|11.81412829|    37.14516822|         3.202806072|        427.1993849|\n",
      "|andrew06@peterson...|26104 Alexander G...|       33.99257277|13.33897545|    37.22580613|         2.482607771|        492.6060127|\n",
      "|ryanwerner@freema...|Unit 2413 Box 034...|       33.87936082|  11.584783|    37.08792607|         3.713209203|        522.3374046|\n",
      "|   knelson@gmail.com|6705 Miller Orcha...|       29.53242897| 10.9612984|    37.42021558|         4.046423164|        408.6403511|\n",
      "|wrightpeter@yahoo...|05302 Dunlap Ferr...|       33.19033404|12.95922609|     36.1446667|         3.918541839|        573.4158673|\n",
      "|taylormason@gmail...|7773 Powell Sprin...|       32.38797585|13.14872569|    36.61995708|         2.494543647|        470.4527333|\n",
      "| jstark@anderson.com|49558 Ramirez Roa...|       30.73772037|12.63660605|    36.21376309|         3.357846842|        461.7807422|\n",
      "| wjennings@gmail.com|6362 Wilson Mount...|        32.1253869|11.73386169|    34.89409275|         3.136132716|        457.8476959|\n",
      "|rebecca45@hale-ba...|8982 Burton RowWi...|       32.33889932|12.01319469|    38.38513659|         2.420806161|        407.7045475|\n",
      "|alejandro75@hotma...|64475 Andre Club ...|       32.18781205|14.71538754|    38.24411459|         1.516575581|        452.3156755|\n",
      "|samuel46@love-wes...|544 Alexander Hei...|       32.61785606|13.98959256|     37.1905038|          4.06454855|        605.0610388|\n",
      "+--------------------+--------------------+------------------+-----------+---------------+--------------------+-------------------+\n",
      "only showing top 20 rows\n",
      "\n"
     ]
    }
   ],
   "source": [
    "data.show()"
   ]
  },
  {
   "cell_type": "code",
   "execution_count": 10,
   "id": "93ae5a48",
   "metadata": {},
   "outputs": [
    {
     "name": "stdout",
     "output_type": "stream",
     "text": [
      "root\n",
      " |-- Email: string (nullable = true)\n",
      " |-- Address: string (nullable = true)\n",
      " |-- Avg Session Length: double (nullable = true)\n",
      " |-- Time on App: double (nullable = true)\n",
      " |-- Time on Website: double (nullable = true)\n",
      " |-- Length of Membership: double (nullable = true)\n",
      " |-- Yearly Amount Spent: double (nullable = true)\n",
      "\n"
     ]
    }
   ],
   "source": [
    "data.printSchema()"
   ]
  },
  {
   "cell_type": "code",
   "execution_count": 12,
   "id": "a872433d",
   "metadata": {},
   "outputs": [],
   "source": [
    "from pyspark.ml.linalg import Vectors\n",
    "from pyspark.ml.feature import VectorAssembler"
   ]
  },
  {
   "cell_type": "code",
   "execution_count": 14,
   "id": "1ef5b2d5",
   "metadata": {},
   "outputs": [],
   "source": [
    "features = VectorAssembler(inputCols = ['Avg Session Length', 'Time on App', 'Time on Website', 'Length of Membership'], outputCol = 'Independent Features')"
   ]
  },
  {
   "cell_type": "code",
   "execution_count": 19,
   "id": "7edcbb39",
   "metadata": {},
   "outputs": [],
   "source": [
    "#we need to transform above 'feature' variable\n",
    "output = features.transform(data)\n"
   ]
  },
  {
   "cell_type": "code",
   "execution_count": 20,
   "id": "7d4f1cb5",
   "metadata": {},
   "outputs": [
    {
     "name": "stdout",
     "output_type": "stream",
     "text": [
      "+--------------------+--------------------+------------------+-----------+---------------+--------------------+-------------------+--------------------+\n",
      "|               Email|             Address|Avg Session Length|Time on App|Time on Website|Length of Membership|Yearly Amount Spent|Independent Features|\n",
      "+--------------------+--------------------+------------------+-----------+---------------+--------------------+-------------------+--------------------+\n",
      "|mstephenson@ferna...|835 Frank TunnelW...|       34.49726773|12.65565115|    39.57766802|         4.082620633|         587.951054|[34.49726773,12.6...|\n",
      "|   hduke@hotmail.com|4547 Archer Commo...|       31.92627203|11.10946073|    37.26895887|         2.664034182|        392.2049334|[31.92627203,11.1...|\n",
      "|    pallen@yahoo.com|24645 Valerie Uni...|       33.00091476|11.33027806|    37.11059744|         4.104543202|        487.5475049|[33.00091476,11.3...|\n",
      "|riverarebecca@gma...|1414 David Throug...|       34.30555663|13.71751367|    36.72128268|         3.120178783|         581.852344|[34.30555663,13.7...|\n",
      "|mstephens@davidso...|14023 Rodriguez P...|       33.33067252|12.79518855|     37.5366533|         4.446308318|         599.406092|[33.33067252,12.7...|\n",
      "|alvareznancy@luca...|645 Martha Park A...|       33.87103788|12.02692534|    34.47687763|         5.493507201|        637.1024479|[33.87103788,12.0...|\n",
      "|katherine20@yahoo...|68388 Reyes Light...|        32.0215955|11.36634831|    36.68377615|         4.685017247|        521.5721748|[32.0215955,11.36...|\n",
      "|  awatkins@yahoo.com|Unit 6538 Box 898...|       32.73914294|12.35195897|    37.37335886|         4.434273435|        549.9041461|[32.73914294,12.3...|\n",
      "|vchurch@walter-ma...|860 Lee KeyWest D...|        33.9877729|13.38623528|    37.53449734|         3.273433578|         570.200409|[33.9877729,13.38...|\n",
      "|    bonnie69@lin.biz|PSC 2734, Box 525...|       31.93654862|11.81412829|    37.14516822|         3.202806072|        427.1993849|[31.93654862,11.8...|\n",
      "|andrew06@peterson...|26104 Alexander G...|       33.99257277|13.33897545|    37.22580613|         2.482607771|        492.6060127|[33.99257277,13.3...|\n",
      "|ryanwerner@freema...|Unit 2413 Box 034...|       33.87936082|  11.584783|    37.08792607|         3.713209203|        522.3374046|[33.87936082,11.5...|\n",
      "|   knelson@gmail.com|6705 Miller Orcha...|       29.53242897| 10.9612984|    37.42021558|         4.046423164|        408.6403511|[29.53242897,10.9...|\n",
      "|wrightpeter@yahoo...|05302 Dunlap Ferr...|       33.19033404|12.95922609|     36.1446667|         3.918541839|        573.4158673|[33.19033404,12.9...|\n",
      "|taylormason@gmail...|7773 Powell Sprin...|       32.38797585|13.14872569|    36.61995708|         2.494543647|        470.4527333|[32.38797585,13.1...|\n",
      "| jstark@anderson.com|49558 Ramirez Roa...|       30.73772037|12.63660605|    36.21376309|         3.357846842|        461.7807422|[30.73772037,12.6...|\n",
      "| wjennings@gmail.com|6362 Wilson Mount...|        32.1253869|11.73386169|    34.89409275|         3.136132716|        457.8476959|[32.1253869,11.73...|\n",
      "|rebecca45@hale-ba...|8982 Burton RowWi...|       32.33889932|12.01319469|    38.38513659|         2.420806161|        407.7045475|[32.33889932,12.0...|\n",
      "|alejandro75@hotma...|64475 Andre Club ...|       32.18781205|14.71538754|    38.24411459|         1.516575581|        452.3156755|[32.18781205,14.7...|\n",
      "|samuel46@love-wes...|544 Alexander Hei...|       32.61785606|13.98959256|     37.1905038|          4.06454855|        605.0610388|[32.61785606,13.9...|\n",
      "+--------------------+--------------------+------------------+-----------+---------------+--------------------+-------------------+--------------------+\n",
      "only showing top 20 rows\n",
      "\n"
     ]
    }
   ],
   "source": [
    "output.show()\n",
    "#an extra feature created which is the combination of all the features"
   ]
  },
  {
   "cell_type": "code",
   "execution_count": 22,
   "id": "406e7151",
   "metadata": {},
   "outputs": [
    {
     "name": "stdout",
     "output_type": "stream",
     "text": [
      "+--------------------+\n",
      "|Independent Features|\n",
      "+--------------------+\n",
      "|[34.49726773,12.6...|\n",
      "|[31.92627203,11.1...|\n",
      "|[33.00091476,11.3...|\n",
      "|[34.30555663,13.7...|\n",
      "|[33.33067252,12.7...|\n",
      "|[33.87103788,12.0...|\n",
      "|[32.0215955,11.36...|\n",
      "|[32.73914294,12.3...|\n",
      "|[33.9877729,13.38...|\n",
      "|[31.93654862,11.8...|\n",
      "|[33.99257277,13.3...|\n",
      "|[33.87936082,11.5...|\n",
      "|[29.53242897,10.9...|\n",
      "|[33.19033404,12.9...|\n",
      "|[32.38797585,13.1...|\n",
      "|[30.73772037,12.6...|\n",
      "|[32.1253869,11.73...|\n",
      "|[32.33889932,12.0...|\n",
      "|[32.18781205,14.7...|\n",
      "|[32.61785606,13.9...|\n",
      "+--------------------+\n",
      "only showing top 20 rows\n",
      "\n"
     ]
    }
   ],
   "source": [
    "#the new feature isnt clearly visible, hence lets see that feature\n",
    "output.select('Independent Features').show()"
   ]
  },
  {
   "cell_type": "code",
   "execution_count": 23,
   "id": "e137f8db",
   "metadata": {},
   "outputs": [
    {
     "data": {
      "text/plain": [
       "['Email',\n",
       " 'Address',\n",
       " 'Avg Session Length',\n",
       " 'Time on App',\n",
       " 'Time on Website',\n",
       " 'Length of Membership',\n",
       " 'Yearly Amount Spent',\n",
       " 'Independent Features']"
      ]
     },
     "execution_count": 23,
     "metadata": {},
     "output_type": "execute_result"
    }
   ],
   "source": [
    "#I want to see my column names\n",
    "output.columns"
   ]
  },
  {
   "cell_type": "code",
   "execution_count": 24,
   "id": "da9b4998",
   "metadata": {},
   "outputs": [],
   "source": [
    "#my model will be having combination of all the independent features and dependent features\n",
    "finalized = output.select('Independent Features', 'Yearly Amount Spent')"
   ]
  },
  {
   "cell_type": "code",
   "execution_count": 25,
   "id": "ea2d204b",
   "metadata": {},
   "outputs": [
    {
     "name": "stdout",
     "output_type": "stream",
     "text": [
      "+--------------------+-------------------+\n",
      "|Independent Features|Yearly Amount Spent|\n",
      "+--------------------+-------------------+\n",
      "|[34.49726773,12.6...|         587.951054|\n",
      "|[31.92627203,11.1...|        392.2049334|\n",
      "|[33.00091476,11.3...|        487.5475049|\n",
      "|[34.30555663,13.7...|         581.852344|\n",
      "|[33.33067252,12.7...|         599.406092|\n",
      "|[33.87103788,12.0...|        637.1024479|\n",
      "|[32.0215955,11.36...|        521.5721748|\n",
      "|[32.73914294,12.3...|        549.9041461|\n",
      "|[33.9877729,13.38...|         570.200409|\n",
      "|[31.93654862,11.8...|        427.1993849|\n",
      "|[33.99257277,13.3...|        492.6060127|\n",
      "|[33.87936082,11.5...|        522.3374046|\n",
      "|[29.53242897,10.9...|        408.6403511|\n",
      "|[33.19033404,12.9...|        573.4158673|\n",
      "|[32.38797585,13.1...|        470.4527333|\n",
      "|[30.73772037,12.6...|        461.7807422|\n",
      "|[32.1253869,11.73...|        457.8476959|\n",
      "|[32.33889932,12.0...|        407.7045475|\n",
      "|[32.18781205,14.7...|        452.3156755|\n",
      "|[32.61785606,13.9...|        605.0610388|\n",
      "+--------------------+-------------------+\n",
      "only showing top 20 rows\n",
      "\n"
     ]
    }
   ],
   "source": [
    "finalized.show()"
   ]
  },
  {
   "cell_type": "code",
   "execution_count": 28,
   "id": "6c4b5f37",
   "metadata": {},
   "outputs": [],
   "source": [
    "#Random split for train and test\n",
    "train_data, test_data = finalized.randomSplit([0.75, 0.25])"
   ]
  },
  {
   "cell_type": "code",
   "execution_count": 29,
   "id": "63945530",
   "metadata": {},
   "outputs": [
    {
     "name": "stderr",
     "output_type": "stream",
     "text": [
      "Exception ignored in: <function JavaWrapper.__del__ at 0x7fd44ed7bee0>\n",
      "Traceback (most recent call last):\n",
      "  File \"/opt/anaconda3/lib/python3.8/site-packages/pyspark/ml/wrapper.py\", line 39, in __del__\n",
      "    if SparkContext._active_spark_context and self._java_obj is not None:\n",
      "AttributeError: 'LinearRegression' object has no attribute '_java_obj'\n"
     ]
    }
   ],
   "source": [
    "#above i can provide to my model\n",
    "regressor = LinearRegression(featuresCol = 'Independent Features', labelCol = 'Yearly Amount Spent')\n",
    "regressor = regressor.fit(train_data)"
   ]
  },
  {
   "cell_type": "code",
   "execution_count": 30,
   "id": "9227614e",
   "metadata": {},
   "outputs": [
    {
     "data": {
      "text/plain": [
       "DenseVector([25.8065, 38.4498, 0.5736, 61.4191])"
      ]
     },
     "execution_count": 30,
     "metadata": {},
     "output_type": "execute_result"
    }
   ],
   "source": [
    "regressor.coefficients"
   ]
  },
  {
   "cell_type": "code",
   "execution_count": 31,
   "id": "eac93355",
   "metadata": {},
   "outputs": [
    {
     "data": {
      "text/plain": [
       "-1055.4161224870015"
      ]
     },
     "execution_count": 31,
     "metadata": {},
     "output_type": "execute_result"
    }
   ],
   "source": [
    "regressor.intercept"
   ]
  },
  {
   "cell_type": "code",
   "execution_count": 35,
   "id": "968ce4ab",
   "metadata": {},
   "outputs": [],
   "source": [
    "pred = regressor.evaluate(test_data)"
   ]
  },
  {
   "cell_type": "code",
   "execution_count": 36,
   "id": "d2642e7a",
   "metadata": {},
   "outputs": [
    {
     "name": "stdout",
     "output_type": "stream",
     "text": [
      "+--------------------+-------------------+------------------+\n",
      "|Independent Features|Yearly Amount Spent|        prediction|\n",
      "+--------------------+-------------------+------------------+\n",
      "|[30.81620065,11.8...|        266.0863409| 283.3205756684506|\n",
      "|[30.97167564,11.7...|        494.6386098|487.47884184644863|\n",
      "|[31.04722214,11.1...|        392.4973992|  388.329747722697|\n",
      "|[31.06132516,12.3...|        487.5554581| 493.2247008827885|\n",
      "|[31.26064687,13.2...|        421.3266313| 421.8753807502119|\n",
      "|[31.26810421,12.1...|        423.4705332| 427.0190551626415|\n",
      "|[31.6005122,12.22...|        479.1728515|460.89070776973904|\n",
      "|[31.60983957,12.7...|        444.5455497| 427.1983612316096|\n",
      "|[31.66104982,11.3...|        416.3583536|417.33152125069796|\n",
      "|[31.7207699,11.75...|        538.7749335| 545.7526461495111|\n",
      "|[31.82934646,11.2...|         385.152338| 384.3714497000183|\n",
      "|[31.85125313,12.4...|        472.9922467| 464.4158157651186|\n",
      "|[31.8530748,12.14...|        459.2851235| 461.6308670122246|\n",
      "|[31.8854063,11.28...|         390.103273|399.38345503641017|\n",
      "|[31.90962683,11.3...|        563.4460357| 551.5979225566907|\n",
      "|[31.95630056,12.8...|        547.1259317| 564.4879531902448|\n",
      "|[32.01230077,12.1...|        492.9450531| 489.2340921479713|\n",
      "|[32.11640012,12.3...|        463.4849954| 460.5434136743602|\n",
      "|[32.19249883,13.3...|         616.660286| 619.0455373334796|\n",
      "|[32.2559012,10.48...|        479.7319376| 478.6400606387649|\n",
      "+--------------------+-------------------+------------------+\n",
      "only showing top 20 rows\n",
      "\n"
     ]
    }
   ],
   "source": [
    "pred.predictions.show()"
   ]
  },
  {
   "cell_type": "code",
   "execution_count": null,
   "id": "d8acecc8",
   "metadata": {},
   "outputs": [],
   "source": []
  }
 ],
 "metadata": {
  "kernelspec": {
   "display_name": "Python 3",
   "language": "python",
   "name": "python3"
  },
  "language_info": {
   "codemirror_mode": {
    "name": "ipython",
    "version": 3
   },
   "file_extension": ".py",
   "mimetype": "text/x-python",
   "name": "python",
   "nbconvert_exporter": "python",
   "pygments_lexer": "ipython3",
   "version": "3.8.8"
  }
 },
 "nbformat": 4,
 "nbformat_minor": 5
}
